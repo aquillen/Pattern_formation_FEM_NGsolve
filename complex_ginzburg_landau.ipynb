{
 "cells": [
  {
   "cell_type": "code",
   "execution_count": 1,
   "id": "3bce9f6b-ee41-41ee-8e93-3b7c09bc80ed",
   "metadata": {},
   "outputs": [],
   "source": [
    "import numpy as np\n",
    "\n",
    "import ngsolve \n",
    "from ngsolve.webgui import Draw\n",
    "import netgen.geom2d"
   ]
  },
  {
   "cell_type": "code",
   "execution_count": null,
   "id": "2dcce8c2-40d6-477f-b44e-ff9866464528",
   "metadata": {},
   "outputs": [],
   "source": []
  },
  {
   "cell_type": "markdown",
   "id": "c2bc23e6-bcf7-42d6-a160-246cf03762f1",
   "metadata": {},
   "source": [
    "### The complex Ginzburg-Landau model on different meshes in ngsolve"
   ]
  },
  {
   "cell_type": "markdown",
   "id": "52c1eff3-606c-4280-a5b9-eee656432f6a",
   "metadata": {},
   "source": [
    "There are various forms of the complex Ginzburg-Landau equation for a field $A \\in \\mathbb{C}$.\n",
    "\n",
    "From Cross' book\n",
    "$$\\partial_t A = A + (1 + i c_1) \\nabla^2 A - (1-ic_3) |A|^2 A$$\n",
    "\n",
    "From https://codeinthehole.com/tutorial/index.html  (Winterbottom) \n",
    "$$\\partial_t A = A + (1 + i \\alpha) \\nabla^2 A - (1+ i\\beta) |A|^2 A$$\n",
    "\n",
    "These two  are the same if you send $\\alpha \\to c_1$ and\n",
    " $\\beta \\to - c_3$. \n",
    "\n",
    "from Chat\\'e's and Manneville's 1996  review https://arxiv.org/abs/1608.07519\n",
    "$$\\partial_t A = A + (1 + i b_1) \\nabla^2 A - (b_3-i) |A|^2 A$$\n",
    "\n",
    "The real Ginzburg-Landau equation is setting $c_1, c_3=0$ of the Cross form or $\\alpha=\\beta=0$ of the Winterbottom form.\n",
    "$$\\partial_t A = A  + \\nabla^2A - |A|^2 A$$\n",
    "\n",
    "To rescale space you can multiply the Laplacian term by a factor.\n",
    "\n",
    "In these forms the domain typically has size a few hundred so that interesting phenomena is seen. \n",
    "It is somewhat tedious to convert between Chate's form and the other two, but an advantage of \n",
    "that form is that they have conveniently classified the different behaviors as a function of $b_1, b_3$. "
   ]
  },
  {
   "cell_type": "markdown",
   "id": "838f0ec0-6e17-4bce-94f6-7663e76ecdb3",
   "metadata": {},
   "source": [
    "The PDE  is obeyed in the domain $\\Omega$, \n",
    "but on the boundary  $\\partial \\Omega$ we set $\\frac{\\partial A}{\\partial n} = 0 $. \n",
    "This is a Neumann boundary condition. \n",
    "\n",
    "The weak/variational form of the problem is \n",
    "\\begin{align}\n",
    "\\int_\\Omega \\partial_t u\\ w\\ dx = \\int_\\Omega D_u (\\Delta u) w \\ dx + \\int_\\Omega g(u) \\ w \\ dx\n",
    "\\end{align}\n",
    "with function $$g(u) = u-(1 + i\\beta)|u|^2 u, \\qquad {\\rm or} \\qquad  \n",
    "g(u) = u - (b_3 - i ) |u|^2 u$$ depending upon which form of the equation one wants to use. \n",
    "\n",
    "The diffusion coefficient $D_u = (1 + i \\alpha)$, \n",
    "and for all test functions $w \\in \\hat V$.  \n",
    "We integrate by parts the terms that contain a Laplacian operator \n",
    "\\begin{align}\n",
    "\\int_\\Omega \\partial_t u\\ w \\ dx =   - D_u  \\int_\\Omega \\nabla u \\nabla w \\ dx \n",
    "+ D_u\\int_{\\partial \\Omega} \\nabla u\\ w \\ ds\n",
    "+ \\int_\\Omega g(u) \\ w \\ dx \n",
    "\\end{align}\n",
    "With normal derivative of $u$ equal to zero on the boundary, the  boundary terms in the above\n",
    "equations can be neglected.\n",
    "The weak form should be obeyed for all test functions $w \\in \\hat V$ with $\\hat V = H^1(\\Omega)$.\n",
    "Since we lack Dirichlet regions of the boundary, there is no additional condition on $\\hat V$. \n",
    " We are following section 2.2.1 of the Fenics book.\n",
    "\n",
    "We use a discrete subspace for $\\hat V$ and assume we have a nice basis for it. \n",
    "We write each term as if it were an operator acting on a vector $w$ (aka the test function) in this basis. \n",
    "\n",
    "We split each time step into two pieces.  First updating $u,v$ with an implicit Crank-Nicolson step and \n",
    "then we take a first order forward Eulerian step to take into account the function $g$. \n",
    "\n",
    "The Crank-Nicolson step for  $\\partial_t u = F u  $  with $F$ a linear op is the following scheme \n",
    "\\begin{align}\n",
    "\\partial_t u \\sim \\frac{u^{n+1} - u^n}{\\Delta t} = \\frac{1}{2} \\left(F u^{n+1} + F u^n\\right)\n",
    "\\end{align}\n",
    "\\begin{align}\n",
    "\\left( 1 - \\frac{\\Delta t F}{2 } \\right) u^{n+1} = \\left(1 + \\frac{\\Delta t F}{2 } \\right) u^n \\end{align}\n",
    "\\begin{align}\n",
    "u^{n+1} = \\left( 1 - \\frac{ \\Delta tF}{2} \\right)^{-1} \\left(1 + \\frac{\\Delta t F}{2 } \\right)u^n\n",
    "\\end{align}\n",
    "Taking into account the reaction equations for a diffusion reaction system \n",
    "\\begin{align}\n",
    "u^{n+1} &= \\left( 1 - \\frac{ \\Delta t}{2 }D_u L \\right)^{-1} \\left(1 + \\frac{\\Delta t}{2 }D_uL  \\right)u^n + \n",
    "\\Delta t\\ g(u^n)\n",
    "\\end{align}\n",
    "where $L$ is the Laplacian operator. \n",
    "\n",
    "Note: we could bring the $u$ term into the linear operator when we use the Crank Nicolson method. \n"
   ]
  },
  {
   "cell_type": "code",
   "execution_count": 2,
   "id": "a0e577ee-45b1-4eb1-8f52-cbaa2ebb7bc8",
   "metadata": {},
   "outputs": [
    {
     "data": {
      "application/vnd.jupyter.widget-view+json": {
       "model_id": "08f38bee243d4e2abf11c0b3ffa8ae83",
       "version_major": 2,
       "version_minor": 0
      },
      "text/plain": [
       "WebGuiWidget(layout=Layout(height='50vh', width='100%'), value={'gui_settings': {}, 'mesh_dim': 2, 'mesh_cente…"
      ]
     },
     "metadata": {},
     "output_type": "display_data"
    },
    {
     "data": {
      "text/plain": [
       "BaseWebGuiScene"
      ]
     },
     "execution_count": 2,
     "metadata": {},
     "output_type": "execute_result"
    }
   ],
   "source": [
    "# let's make some kind of domain\n",
    "#https://docu.ngsolve.org/latest/netgen_tutorials/define_2d_geometries.html\n",
    "geo = netgen.geom2d.SplineGeometry()\n",
    "fac = 100\n",
    "p1 = geo.AppendPoint (0,0)\n",
    "p2 = geo.AppendPoint (0.7*fac,-0.3*fac)\n",
    "p3 = geo.AppendPoint (1.4*fac,0*fac)\n",
    "p4 = geo.AppendPoint (0.6*fac,1*fac)\n",
    "\n",
    "geo.Append ([\"spline3\", p1, p2, p3],bc=\"bottom\")\n",
    "geo.Append ([\"line\", p3, p4], bc=\"right\")\n",
    "geo.Append ([\"line\", p4, p1], bc=\"left\")\n",
    "\n",
    "mtemp = geo.GenerateMesh (maxh=2); Draw(mtemp) \n",
    "# lets you look at the mesh without making it into a full mesh that is suitable for FEM"
   ]
  },
  {
   "cell_type": "code",
   "execution_count": 4,
   "id": "e9f49781-9aa5-4d86-a76e-82a42bd9a380",
   "metadata": {},
   "outputs": [
    {
     "data": {
      "application/vnd.jupyter.widget-view+json": {
       "model_id": "7f23e596c809481789ca8f95bc0e2098",
       "version_major": 2,
       "version_minor": 0
      },
      "text/plain": [
       "WebGuiWidget(layout=Layout(height='50vh', width='100%'), value={'gui_settings': {}, 'ngsolve_version': '6.2.25…"
      ]
     },
     "metadata": {},
     "output_type": "display_data"
    },
    {
     "data": {
      "text/plain": [
       "BaseWebGuiScene"
      ]
     },
     "execution_count": 4,
     "metadata": {},
     "output_type": "execute_result"
    }
   ],
   "source": [
    "mesh = ngsolve.Mesh(geo.GenerateMesh (maxh=2))\n",
    "Draw(mesh)"
   ]
  },
  {
   "cell_type": "code",
   "execution_count": 5,
   "id": "d33cc811-2fb8-4259-b8c9-0e242858427d",
   "metadata": {},
   "outputs": [],
   "source": [
    "# the extra nonlinear function: u is the field, b_3 is the free parameter \n",
    "def g(u,b_3):\n",
    "    return (u-(b_3 -1j)*np.absolute(u)*np.absolute(u)*u)   # Chate's form "
   ]
  },
  {
   "cell_type": "code",
   "execution_count": 6,
   "id": "1dcbcb04-e81d-41b7-9df7-ffd74c920a60",
   "metadata": {},
   "outputs": [],
   "source": [
    "fes = ngsolve.H1(mesh, order=4, complex=True)  # We need a complex element\n",
    "u, v = fes.TnT() # trial and test functions!\n",
    "gfu = ngsolve.GridFunction(fes) # to hold the solution \n"
   ]
  },
  {
   "cell_type": "code",
   "execution_count": 8,
   "id": "b96a82b5-787c-4909-a5c8-9e23897ef983",
   "metadata": {},
   "outputs": [
    {
     "data": {
      "text/plain": [
       "6"
      ]
     },
     "execution_count": 8,
     "metadata": {},
     "output_type": "execute_result"
    }
   ],
   "source": [
    "np.random.randint(10)"
   ]
  },
  {
   "cell_type": "code",
   "execution_count": 22,
   "id": "dec625c0-a710-4aca-b694-88dff8519410",
   "metadata": {},
   "outputs": [
    {
     "data": {
      "application/vnd.jupyter.widget-view+json": {
       "model_id": "ce62175d6f03418d8ed87698ffb62bc8",
       "version_major": 2,
       "version_minor": 0
      },
      "text/plain": [
       "WebGuiWidget(layout=Layout(height='50vh', width='100%'), value={'gui_settings': {'Complex': {'phase': 0.0, 'sp…"
      ]
     },
     "metadata": {},
     "output_type": "display_data"
    },
    {
     "data": {
      "text/plain": [
       "BaseWebGuiScene"
      ]
     },
     "execution_count": 22,
     "metadata": {},
     "output_type": "execute_result"
    }
   ],
   "source": [
    "# create some random initial conditions!\n",
    "def gen_init(gfu):\n",
    "    sig = 1e-5\n",
    "    nv = len(gfu.vec.FV().NumPy()[:])\n",
    "    for k in range(nv):\n",
    "        gfu.vec.FV().NumPy()[k] = 0.0 + 0*1j   # reset \n",
    "    rvec = np.random.uniform(size=nv)*sig + np.random.uniform(size=nv)*sig*1j/2\n",
    "    gfu.vec.FV().NumPy()[:] = rvec\n",
    "    #gfu.vec.FV().NumPy()[:] +=  np.random.uniform(size=nv)*sig*1j/2\n",
    "    for k in range(30):\n",
    "        j = np.random.randint(nv-1)\n",
    "        gfu.vec.FV().NumPy()[j] = 1.0  # some seed values\n",
    "        \n",
    "gen_init(gfu)\n",
    "Draw(gfu)  # with pull down menu you can choose real or complex parts to plot or the norm"
   ]
  },
  {
   "cell_type": "code",
   "execution_count": 23,
   "id": "fb24f363-a91b-4273-b475-99efdde86888",
   "metadata": {},
   "outputs": [
    {
     "name": "stdout",
     "output_type": "stream",
     "text": [
      "m.mat.nze = 891193, a1.mat.nze=891193\n",
      "b.nze = 891193\n",
      "astar.nze=891193\n"
     ]
    }
   ],
   "source": [
    "alpha = 2.  # must be defined here to make the Laplacian op    alpha = c_1 = b_1 of the different forms\n",
    "D_u  = (1 + 1.j*alpha)  # complex diffusion coefficient , Chate form \n",
    "dt = .005    # timestep \n",
    "\n",
    "# Laplacian op\n",
    "a = ngsolve.BilinearForm(fes, symmetric=True)  # holds Laplacian operator \n",
    "a += D_u*ngsolve.grad(u)*ngsolve.grad(v)*ngsolve.dx # This is laplacian with a complex diffusion coef \n",
    "a.Assemble()\n",
    "\n",
    "# mass operator \n",
    "m = ngsolve.BilinearForm(fes)  # hold mass matrix for both fields \n",
    "m += u*v*ngsolve.dx \n",
    "m.Assemble()\n",
    "\n",
    "print(f\"m.mat.nze = {m.mat.nze}, a1.mat.nze={a.mat.nze}\") # check that they are the same\n",
    "# these are the number of nonzero elements in the sparse matrices\n",
    "\n",
    "# B = M - 0.5*L*dt , needed for Crank Nicholson update L = Laplacian times diffusion coeff, M = mass matrix\n",
    "b = m.mat.CreateMatrix()\n",
    "b.AsVector().data     = m.mat.AsVector() - 0.5*dt * a.mat.AsVector()\n",
    "print(f\"b.nze = {b.nze}\")\n",
    "\n",
    "# A* = M + 0.5 * L * dt   needed for Crank Nicholson update \n",
    "astar = m.mat.CreateMatrix() # create a matrix in the form of m\n",
    "astar.AsVector().data = m.mat.AsVector() + 0.5*dt * a.mat.AsVector()\n",
    "invastar = astar.Inverse(freedofs=fes.FreeDofs())\n",
    "print(f\"astar.nze={astar.nze}\")\n",
    "\n",
    "# following everything we did previously for Brusselator in the notebook Brus_Circle.ipynb but now with a single and complex field"
   ]
  },
  {
   "cell_type": "code",
   "execution_count": 24,
   "id": "d623bc77-1500-4491-b9eb-4a69b3cc274e",
   "metadata": {},
   "outputs": [],
   "source": [
    "# arguments:\n",
    "#  invastar, b :      # matrix operators on the finite element system \n",
    "#  nsamples:  number of outputs to store in the multidimensional data set \n",
    "#  b_3: parameter for the complex ginzburg landau model (chate form)\n",
    "#  dt:        timestep  which is used in the matrix operators invastar and b \n",
    "# predefined things:\n",
    "#  gfu      # for holding solution, is a Gridfunction on a predefined mesh\n",
    "#  scene1,scene2    # for drawing both fields, outputs of Draw ngsolve.webgui\n",
    "# returns \n",
    "#  gfut:   a multidimensional set of grid functions on finite element system that holds time stepped results\n",
    "def TimeStepping_CN(invastar, b,  b_3, dt, initial_cond = None, t0 = 0, tend = 15, \n",
    "                 nsamples = 50):\n",
    "    if initial_cond:\n",
    "        gfu.Set(initial_cond)   # set initial condition, otherwise don't touch the initial fields \n",
    "        # as the initial condition could be set already in gfu.vec.data\n",
    "    cnt = 0; time = t0\n",
    "    sample_int = int(np.floor(tend / dt / nsamples)+1)  # nsamples is probably the number of outputs we want\n",
    "    \n",
    "    gfut = ngsolve.GridFunction(gfu.space,multidim=0)\n",
    "    gfut.AddMultiDimComponent(gfu.vec)  #  I think this makes it so we can store a series of solutions \n",
    "\n",
    "    while time < tend - 0.5 * dt:\n",
    "        \n",
    "        res =  b * gfu.vec   # you can just multiply b onto gfu.vec (it is a matrix multiply!) # if b is just a matrix\n",
    "        # res is defined here and is now a vector on the finite element system \n",
    "        gfu.vec.data = invastar * res  # replacing solution here for Crank Nicholson update  \n",
    "        # note you can just multiply invastar onto res  (this is a matrix multiply!)\n",
    "\n",
    "        # operator split add in non-linear part by hand \n",
    "        upass = gfu.vec.FV().NumPy()[:]  # get the field \n",
    "        gfun  = g(upass,b_3) # compute the nonlinear term \n",
    "        gfu.vec.FV().NumPy()[:] += dt*gfun # add in non-linear function \n",
    "        # why I am doing this by hand?  NGsolve has non linear examples but I think they linearize and we want a fully \n",
    "        # non linear PDE here , we could try other techniques!\n",
    "        \n",
    "        print(\"\\r\",time,end=\"\")\n",
    "        if cnt % sample_int == 0:\n",
    "            gfut.AddMultiDimComponent(gfu.vec)\n",
    "            scene.Redraw()\n",
    "        cnt += 1; time = cnt * dt\n",
    "    return gfut"
   ]
  },
  {
   "cell_type": "code",
   "execution_count": 27,
   "id": "c3cabcdc-5ada-46d6-a20d-045c45dd884a",
   "metadata": {},
   "outputs": [
    {
     "data": {
      "application/vnd.jupyter.widget-view+json": {
       "model_id": "4ef3b8bac3a84dd49b9d6a361041b96b",
       "version_major": 2,
       "version_minor": 0
      },
      "text/plain": [
       "WebGuiWidget(layout=Layout(height='50vh', width='100%'), value={'gui_settings': {'Complex': {'phase': 0.0, 'sp…"
      ]
     },
     "metadata": {},
     "output_type": "display_data"
    }
   ],
   "source": [
    "# create some fresh random initial conditions! (again!)\n",
    "#gfu = ngsolve.GridFunction(fes) # remake the field to hold the solution \n",
    "gen_init(gfu)\n",
    "scene = Draw(gfu)  # with pull down menu you can choose real or complex parts to plot or the norm"
   ]
  },
  {
   "cell_type": "code",
   "execution_count": 28,
   "id": "877045bf-3595-4abb-bd93-d0ec26e0eb48",
   "metadata": {},
   "outputs": [
    {
     "name": "stdout",
     "output_type": "stream",
     "text": [
      " 9.99500000000000153"
     ]
    }
   ],
   "source": [
    "b_3 = 1.3 # choose a nice pattern ?\n",
    "gfut_CN = TimeStepping_CN(invastar, b,b_3, dt, tend=10)"
   ]
  },
  {
   "cell_type": "code",
   "execution_count": null,
   "id": "ceeaafd7-e678-4993-866d-13299bacab11",
   "metadata": {},
   "outputs": [],
   "source": [
    "# seems to have worked.  It would be nice to show phase as well as norm, webgui is not helpful on this respect"
   ]
  }
 ],
 "metadata": {
  "kernelspec": {
   "display_name": "Python 3 (ipykernel)",
   "language": "python",
   "name": "python3"
  },
  "language_info": {
   "codemirror_mode": {
    "name": "ipython",
    "version": 3
   },
   "file_extension": ".py",
   "mimetype": "text/x-python",
   "name": "python",
   "nbconvert_exporter": "python",
   "pygments_lexer": "ipython3",
   "version": "3.13.5"
  }
 },
 "nbformat": 4,
 "nbformat_minor": 5
}
