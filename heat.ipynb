{
 "cells": [
  {
   "cell_type": "code",
   "execution_count": 1,
   "id": "26fdd585-dc27-4501-82e9-545f0d4d55fb",
   "metadata": {},
   "outputs": [],
   "source": [
    "import numpy as np\n",
    "\n",
    "import ngsolve \n",
    "from ngsolve.webgui import Draw\n",
    "import netgen.geom2d"
   ]
  },
  {
   "cell_type": "markdown",
   "id": "3103ab20-0ce6-4e6e-a116-24fef2490653",
   "metadata": {},
   "source": [
    "### Implicit Eulerian method for the heat equation \n",
    "\n",
    "WE are solving\n",
    "$$\\partial_t = \\Delta u  $$ \n",
    "Weak form \n",
    "$$\\int  \\partial_t u v\\ dx +  \\int \\nabla u \\nabla v dx =0 \\qquad \\forall v$$\n",
    "\n",
    "Implicit Euler\n",
    "$$ \\int \\frac{(u^{n+1} - u^n)}{dt} v \\ dx + \\int \\nabla u^{n+1} \\nabla v dx  = 0 $$\n",
    "\n",
    "Let $$ Mu = \\int u v dx  \\text { and  } \n",
    "L u = \\int \\nabla u \\nabla v dx $$ \n",
    "\\begin{align}\n",
    " M u^{n+1} - M u^n + dt L u^{n+1} &= 0 \\\\\n",
    "M u^{n+1} + dt L u^{n+1} - M u^n  - dt L u^n + dt L u^n &= 0  \\\\\n",
    "(M + dt L) ( u^{n+1} - u^n) + dt L u^n &= 0 \n",
    "\\end{align}\n",
    "Let $$\\delta = ( u^{n+1} - u^n) \\text{  and } M_* = (M + dt L)$$\n",
    "\\begin{align}\n",
    "\\delta = M_*^{-1} (- dt L u^n)\n",
    "\\end{align}"
   ]
  },
  {
   "cell_type": "code",
   "execution_count": 2,
   "id": "1dfd0394-fec8-47e6-9eda-8d82f5e49b0a",
   "metadata": {},
   "outputs": [],
   "source": [
    "# https://docu.ngsolve.org/latest/i-tutorials/unit-4.1.2-csg2d/csg2d.html\n",
    "geo = netgen.geom2d.CSG2d()\n",
    "\n",
    "# make a circle with a hole in it!\n",
    "circle1 = netgen.geom2d.Circle( center=(0,0), radius=1.0,  bc=\"outer\" )\n",
    "circle2 = netgen.geom2d.Circle( center=(0.1,0), radius=0.3,  bc=\"inner\" )\n",
    "\n",
    "annulus = circle1 - circle2\n",
    "geo.Add(annulus)"
   ]
  },
  {
   "cell_type": "code",
   "execution_count": 3,
   "id": "a40e5146-9729-4823-9db4-e44091f431e5",
   "metadata": {},
   "outputs": [
    {
     "data": {
      "application/vnd.jupyter.widget-view+json": {
       "model_id": "82d0cc9705874e579437066f6218a909",
       "version_major": 2,
       "version_minor": 0
      },
      "text/plain": [
       "WebGuiWidget(layout=Layout(height='50vh', width='100%'), value={'gui_settings': {}, 'ngsolve_version': '6.2.25…"
      ]
     },
     "metadata": {},
     "output_type": "display_data"
    },
    {
     "data": {
      "text/plain": [
       "('outer', 'outer', 'outer', 'outer', 'inner', 'inner', 'inner', 'inner')"
      ]
     },
     "execution_count": 3,
     "metadata": {},
     "output_type": "execute_result"
    }
   ],
   "source": [
    "maxh_mesh=0.07\n",
    "mesh = ngsolve.Mesh( geo.GenerateMesh(maxh=maxh_mesh))\n",
    "Draw(mesh)\n",
    "mesh.GetBoundaries()"
   ]
  },
  {
   "cell_type": "code",
   "execution_count": 4,
   "id": "dfd1e3ea-383d-43c8-9ccb-adf8fdb50bc9",
   "metadata": {},
   "outputs": [],
   "source": [
    "korder = 2\n",
    "fes = ngsolve.H1(mesh, order=korder)    # if you want dirichlet BC:  ,dirichlet=\"inner|outer\") \n",
    "u,v =  fes.TnT()  # create test and trial functions  "
   ]
  },
  {
   "cell_type": "code",
   "execution_count": 5,
   "id": "b23260eb-1e9a-4b32-88cb-8408b131e43f",
   "metadata": {},
   "outputs": [],
   "source": [
    "nu=0.1\n",
    "dt = 0.01\n",
    "\n",
    "# Laplacian  = L above\n",
    "a = ngsolve.BilinearForm(fes)  # holds Laplacian operator for both fields \n",
    "a += nu*ngsolve.grad(u)*ngsolve.grad(v)*ngsolve.dx # This is laplacian \n",
    "a.Assemble()\n",
    "\n",
    "# Mass matrix  = M above\n",
    "m = ngsolve.BilinearForm(fes)  \n",
    "m += u*v*ngsolve.dx \n",
    "m.Assemble()\n",
    "\n",
    "# Inverse of mass matrix  M^-1\n",
    "im = m.mat.CreateMatrix()\n",
    "invm = im.Inverse(freedofs=fes.FreeDofs())  # in case we want an inverse!\n",
    "\n",
    "# Mstar = dt L + M \n",
    "mstar = ngsolve.BilinearForm(fes) \n",
    "mstar +=  dt*nu*ngsolve.grad(u)*ngsolve.grad(v)*ngsolve.dx  + u*v*ngsolve.dx \n",
    "mstar.Assemble()\n",
    "\n",
    "# Inverse of Mstar  = M_*^-1\n",
    "ims = mstar.mat.CreateMatrix()\n",
    "invmstar = ims.Inverse(freedofs=fes.FreeDofs())\n",
    "\n",
    "# create thing to hold the solution \n",
    "gfu = ngsolve.GridFunction(fes)\n"
   ]
  },
  {
   "cell_type": "code",
   "execution_count": 6,
   "id": "13119f42-d920-429a-aa95-02955037642c",
   "metadata": {},
   "outputs": [
    {
     "data": {
      "application/vnd.jupyter.widget-view+json": {
       "model_id": "25447c49a1764cfd8a632b27c37b8866",
       "version_major": 2,
       "version_minor": 0
      },
      "text/plain": [
       "WebGuiWidget(layout=Layout(height='50vh', width='100%'), value={'gui_settings': {}, 'ngsolve_version': '6.2.25…"
      ]
     },
     "metadata": {},
     "output_type": "display_data"
    }
   ],
   "source": [
    "# create initial conditions \n",
    "rho_0 = 1.0\n",
    "x0=-0.5; y0=0.0; sig0=0.5; sig2= sig0*sig0\n",
    "r2 = (ngsolve.x -x0) * (ngsolve.x  - x0) + (ngsolve.y-y0) * (ngsolve.y -y0)\n",
    "rho_bump = 0.01*ngsolve.exp(-0.5*r2/sig2) + rho_0 # is a coefficient function \n",
    "\n",
    "# set the initial density field in the gfu solution field \n",
    "gfu.Set(rho_bump)\n",
    "scene = Draw(gfu)\n",
    "\n",
    "t=0 # initial time"
   ]
  },
  {
   "cell_type": "code",
   "execution_count": 7,
   "id": "33fb12b5-b9fd-4544-9327-fe8c77307833",
   "metadata": {},
   "outputs": [],
   "source": [
    "\n",
    "tend=3.0  #end time \n",
    "\n",
    "while (t < tend-0.5*dt):\n",
    "    res = -dt*a.mat* gfu.vec\n",
    "    gfu.vec.data += invmstar * res\n",
    "    scene.Redraw()\n",
    "    t = t + dt;"
   ]
  },
  {
   "cell_type": "code",
   "execution_count": null,
   "id": "9af3d445-4046-413d-a8ca-2c23e5624e52",
   "metadata": {},
   "outputs": [],
   "source": []
  }
 ],
 "metadata": {
  "kernelspec": {
   "display_name": "Python 3 (ipykernel)",
   "language": "python",
   "name": "python3"
  },
  "language_info": {
   "codemirror_mode": {
    "name": "ipython",
    "version": 3
   },
   "file_extension": ".py",
   "mimetype": "text/x-python",
   "name": "python",
   "nbconvert_exporter": "python",
   "pygments_lexer": "ipython3",
   "version": "3.13.5"
  }
 },
 "nbformat": 4,
 "nbformat_minor": 5
}
