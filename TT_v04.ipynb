{
 "cells": [
  {
   "cell_type": "code",
   "execution_count": 1,
   "id": "f16e5e67-d781-4fd4-8581-a2a19894bd4d",
   "metadata": {},
   "outputs": [],
   "source": [
    "import ngsolve \n",
    "from ngsolve.webgui import Draw\n",
    "import netgen.occ \n",
    "import netgen.geom2d \n",
    "\n",
    "import numpy as np"
   ]
  },
  {
   "cell_type": "markdown",
   "id": "c27afc0c-5d92-49d8-95bc-96c11a66a19f",
   "metadata": {},
   "source": [
    "reference :\n",
    "\n",
    "https://docu.ngsolve.org/latest/i-tutorials/index.html#advanced-topics\n",
    "\n",
    "#mostly following this one: \n",
    "\n",
    "https://docu.ngsolve.org/latest/i-tutorials/unit-3.2-navierstokes/navierstokes.html"
   ]
  },
  {
   "cell_type": "markdown",
   "id": "e8082ed8-a641-45ce-a45b-2f02c69ba910",
   "metadata": {},
   "source": [
    "## Incompressible Toner Tu flocking model \n",
    "\n",
    "$$ (\\partial_t + \\lambda {\\bf u} \\cdot \\nabla) {\\bf u}  + \\nabla p = (\\alpha - \\beta u^2) {\\bf u}  \n",
    " + \\nu \\Delta {\\bf u} $$\n",
    "  \n",
    "$$ \\nabla \\cdot {\\bf u}  = 0$$\n",
    "\n",
    "Parameters \n",
    "$\\alpha, \\beta, \\lambda, \\nu >0$, domain $\\Omega$. \n",
    "\n",
    "By rescaling time and distance one parameter can be removed. \n",
    "\n",
    "The parameter $\\lambda$ is dimensionless.\n",
    "\n",
    "The parameter $\\nu$ is like a diffusion coefficient (units distance$^2$/time).  \n",
    "\n",
    "The parameter $\\alpha$ has units of 1/time. \n",
    "\n",
    "The parameter $\\beta$ has units of velocity$^2$/time. \n",
    " "
   ]
  },
  {
   "cell_type": "markdown",
   "id": "1a4978da-b0e1-4efe-88ed-0b4dae58f127",
   "metadata": {},
   "source": [
    "A characteristic velocity scale is \n",
    "$U = \\sqrt{\\alpha/\\beta}$.  \n",
    "\n",
    "The \n",
    "Reynolds number $Re = \\frac{\\lambda UL}{\\nu}$ where $L$ is a lengthscale (of the domain?).\n",
    "\n",
    "A dimensionless number known as the \n",
    "the Cahn number $Cn = l_c/L$ where $l_c  = \\sqrt{\\nu/\\alpha}$ is apparently a scale above which fluctuations can grow. \n",
    "Note the Cahn number does not seem to be listed among common dimensionless numbers used in fluid mechanics on the relevant wiki site. \n",
    "\n",
    "I followed Navdeep Rana and Prasad Perlekar's 2020 paper entitled \n",
    "Coarsening in the 2D incompressible Toner-Tu equation: Signatures of turbulence"
   ]
  },
  {
   "cell_type": "code",
   "execution_count": null,
   "id": "ac7067fd-d2cc-4add-b13a-8d7fef8e03e4",
   "metadata": {},
   "outputs": [],
   "source": []
  },
  {
   "cell_type": "markdown",
   "id": "f1a70051-0369-4aa6-ab20-cfbc7055f78d",
   "metadata": {},
   "source": [
    "\n",
    "<b> An explicit Euler method </b>:\n",
    "$$\\partial_t u + {\\bf L}(u) = 0$$\n",
    "with $\\bf L$ an operator on $u$. \n",
    "$$ \\frac{u^{n+1} - u^n}{\\Delta t }+ {\\bf L}(u^{n}) = 0$$\n",
    "Notice that the operator is applied to $u^{n}$. \n",
    "We now solve for $u^{n+1}$\n",
    "$$ u^{n+1}  = ( I+ \\Delta t {\\bf L})u^n$$\n",
    "This is simple and straightforward.  For the advection equation, it is unstable. \n",
    "\n",
    "<b> An implicit Euler method </b>:\n",
    "$$ \\frac{u^{n+1} - u^n}{\\Delta t }+ {\\bf L}(u^{n+1}) = 0$$\n",
    "Notice that the operator is applied to $u^{n+1}$ not $u^n$. \n",
    "We now solve for $u^{n+1}$\n",
    "$$ (I + \\Delta t {\\bf L} ) u^{n+1}  = u^n$$\n",
    "$$ u^{n+1} = (I + \\Delta t {\\bf L} )^{-1} u^n$$\n",
    "Here $I$ is the identity operator. \n",
    "Since we need the inverse of operator or a matrix, this technique is more difficult to apply but it tends to be more stable. \n",
    "\n",
    "If we want to use the difference  to update instead of replacing $u^{n+1}$ we start again with \n",
    "$$ (I + \\Delta t {\\bf L} ) u^{n+1}  = u^n$$\n",
    "subtract $(I + \\Delta t {\\bf L} ) u^{n} $ from both sides giving \n",
    "$$ (I + \\Delta t {\\bf L} ) (u^{n+1}  - u^n) = u^n - (I + \\Delta t {\\bf L} ) u^n =- \\Delta t {\\bf L}  u^n $$\n",
    "$$u^{n+1} - u^n = -(I + \\Delta t {\\bf L} )^{-1}\\Delta t {\\bf L}  u^n  $$\n",
    "\n",
    "\n",
    "If the system is a finite element system, in place of the identity we have the mass operator. \n",
    "\n",
    "Let $$M(u,v) = \\int_\\Omega  dx\\ u v $$ \n",
    "giving  \n",
    "$$ u^{n+1} = (M + \\Delta t {\\bf L} )^{-1} u^n$$\n",
    "or \n",
    "$$ u^{n+1} - u^n = (M + \\Delta t {\\bf L} )^{-1} (-\\Delta t {\\bf L}  u^n)$$\n",
    "\n",
    "We define $$M_* = M + \\Delta t {\\bf L}$$ and the difference $\\delta u = u^{n+1} - u^n $\n",
    "The difference  can be written as \n",
    "$$ \\delta u = M_*^{-1} (-\\Delta t {\\bf L}  u^n)$$\n",
    "\n",
    "After computing the right hand side, you can add this to the field. "
   ]
  },
  {
   "cell_type": "markdown",
   "id": "7e91b3c4-e6e8-4ebb-9c6e-39ea4871569b",
   "metadata": {},
   "source": [
    "\n",
    "\n",
    "### IMEX time discretization method \n",
    "\n",
    "<b> IMEX </b> stands for semi-implicit Euler method or IMplicit Explicit methods. \n",
    "\n",
    "A semi-implicit method\n",
    " uses the $n+1$ timestep in some of the operators (which is like an implicit  method), \n",
    " the $n$ timestep in other operators (which is like an explicity method).\n",
    "The time derivative $\\partial_t u$ is approximated as $\\frac{u^{n+1} - u^n}{\\Delta t}$ which is first order in time.\n"
   ]
  },
  {
   "cell_type": "markdown",
   "id": "fda8f99c-3b10-46c4-84f6-a2da1ba40c16",
   "metadata": {},
   "source": [
    "\n",
    "\n",
    "This is helpful!  The Peclet number (using the grid size as lengthscale) is important!!!!!!\n",
    "https://www.comsol.com/blogs/understanding-stabilization-methods"
   ]
  },
  {
   "cell_type": "markdown",
   "id": "52867ee0-fa93-492c-bb4f-d2d06a735099",
   "metadata": {},
   "source": [
    "### Compressible Toner Tu \n",
    "\n",
    "$$ (\\partial_t {\\bf u} + \\lambda {\\bf u} \\cdot \\nabla) {\\bf u}  + \\nabla p/\\rho = (\\alpha - \\beta u^2) {\\bf u}  \n",
    " + \\nu \\Delta {\\bf u} $$\n",
    "  \n",
    "$$ \\partial_t \\rho + \\nabla \\cdot ({\\rho \\bf u})  = 0 \\qquad {\\rm equivalently} \\qquad \n",
    " \\partial_t \\rho + ({\\bf u} \\cdot \\nabla)\\rho + \\rho \\nabla \\cdot {\\bf u}  = 0$$\n",
    "\n",
    "With an equation of state  $p(\\rho)$.  \n",
    "For the  moment we could \n",
    " assume that $\\nabla p/\\rho = c_s^2 \\nabla \\rho$ depends only on density with $c_s^2$ a free parameter\n",
    "representing the sound speed. \n",
    "\n",
    "The  weak form is (and integrating by parts the term with the Laplacian in it)\n",
    "\n",
    "$$ \\int_\\Omega dx [ (\\partial_t {\\bf u} + \\lambda {\\bf u} \\cdot \\nabla) {\\bf u} ] \\cdot  {\\bf v}  +\\int_\\Omega c_s^2\\nabla \\rho \\cdot{\\bf  v} dx \n",
    "= \\int_\\Omega dx  (\\alpha - \\beta u^2) {\\bf u}  \\cdot {\\bf v} \n",
    " - \\int_\\Omega  \\nu \\nabla {\\bf u}: \\nabla {\\bf v } $$\n",
    "\n",
    "$$ \\int_\\Omega dx \\partial_t \\rho q + \\int_\\Omega \\nabla \\cdot ( \\rho u) q dx = 0$$\n",
    "\n",
    "To be clear in 2 dimensions\n",
    "$$\\nabla {\\bf u} : \\nabla {\\bf v}  = \\nabla u_x \\cdot \\nabla v_x + \\nabla u_y \\cdot \\nabla v_y$$\n",
    "\n",
    "Integrating by parts gives \n",
    "$$\\int_\\Omega dx \\nabla \\rho \\cdot {\\bf v}  = - \\int_\\Omega dx \\rho \\nabla \\cdot {\\bf v}$$\n",
    "$$ \\int_\\Omega dx  \\nabla \\cdot (\\rho {\\bf u}) q dx =  - \\int_\\Omega dx \\rho {\\bf u} \\cdot \\nabla {\\bf q} $$\n",
    "\n",
    "The weak form becomes \n",
    "$$  \\int_\\Omega dx (\\partial_t {\\bf u}  +   \\int_\\Omega dx  \\lambda ({\\bf u} \\cdot \\nabla) {\\bf u}  \\cdot  {\\bf v}   - \\int_\\Omega c_s^2 \\rho \\nabla \\cdot{\\bf  v} dx \n",
    "- \\int_\\Omega dx  (\\alpha - \\beta u^2) {\\bf u}  \\cdot {\\bf v}  + \\int_\\Omega  \\nu \\nabla {\\bf u}: \\nabla {\\bf v } =0$$\n",
    "\n",
    "$$ \\int_\\Omega dx  \\rho_t q  - \\int_\\Omega dx \\rho\\ ({\\bf u} \\cdot \\nabla { q} )=0 $$\n",
    "\n"
   ]
  },
  {
   "cell_type": "markdown",
   "id": "0772a7e5-e690-466d-8da3-f4767fa2466f",
   "metadata": {},
   "source": [
    "We can use a bilinear form \n",
    "$$a({\\bf u},{\\bf v})\n",
    "= \\nu \\nabla {\\bf u}: \\nabla {\\bf v } dx$$\n",
    "\n",
    "\n",
    "A bilinear mass matrix \n",
    "$$ m(({\\bf u},{\\bf v}), (\\rho,q)) = [{\\bf u} \\cdot {\\bf v}  + \\rho q] dx $$\n",
    "\n",
    "The remaining terms are non-linear.\n",
    "\n",
    "The convective terms \n",
    "\\begin{align}\n",
    " c_u({\\bf w},{\\bf u},{\\bf v}) &=  \\lambda ({\\bf w} \\cdot \\nabla) {\\bf u} \\cdot {\\bf v}\\ dx \\\\ \n",
    " c_\\rho({\\bf w},\\rho,q) &= - \\rho\\ {\\bf w} \\cdot \\nabla q \\  dx \\end{align}\n",
    "\n",
    "The propel term  \n",
    "$$ {\\rm propel}(w^2,{\\bf u},{\\bf v}) = -(\\alpha - \\beta w^2)   {\\bf u} \\cdot {\\bf v}\\ dx $$ \n",
    "\n",
    "A pressure term\n",
    "$$ {\\rm pres}( \\rho ,{\\bf u}, {\\bf v} ) = - c_s^2 \\rho \\nabla  \\cdot  {\\bf v}  \\ dx $$\n",
    " \n",
    "\n",
    "Mixed methods we use ${\\bf w} = {\\bf u}^n$ from the previous time step.\n",
    " "
   ]
  },
  {
   "cell_type": "markdown",
   "id": "314349fc-f623-4bd6-85e7-6f376a6791a9",
   "metadata": {},
   "source": [
    "The mixed method\n",
    "\\begin{align}\n",
    " \\frac{1}{dt} \\left( m({\\bf u}^{n+1}, {\\bf v}, \\rho^{n+1},q) - m({\\bf u}^{n}, {\\bf v}, \\rho^{n},q) \\right) \n",
    "&+ a({\\bf u}^{n+1}, {\\bf v}) + {\\rm pres}(\\rho^n, {\\bf u}^n, {\\bf v}) + c_u ( {\\bf u}^n , {\\bf u}^n, {\\bf v}) + c_\\rho( {\\bf u}^{n} , \\rho^n, q) \\\\\n",
    "&+ {\\rm propel}(u^{2,n}, {\\bf u}^n, {\\bf v})  = 0\\end{align}\n",
    "\n",
    "Notice that only the Laplacian term is in the $n+1$ time step.  All the other terms are non-linear and harder to invert. "
   ]
  },
  {
   "cell_type": "markdown",
   "id": "b2c267e9-0458-4de0-ae03-e2747e4acc6b",
   "metadata": {},
   "source": [
    "\\begin{align} (M + a\\ dt) ( u^{n+1}, \\rho^{n+1}) = M(u^n, \\rho^n) - dt ( {\\rm pres} + {\\rm propel} +  c_u + c_\\rho )(u^n,\\rho^n)  \n",
    "\\end{align}\n",
    "Subtract $(M + a\\ dt )(u^n,\\rho^n)$ from both sides.\n",
    "\\begin{align}\n",
    "(M + a\\ dt) (\\delta u,\\delta \\rho) =  - dt (a() +  {\\rm pres} + {\\rm propel} +  c_u + c_\\rho )(u^n,\\rho^n)\n",
    "\\end{align}\n",
    "Define \n",
    "$$ M_* = M + a$$\n",
    "giving \n",
    "$$ (\\delta u,\\delta \\rho) = - M_*^{-1} dt ( a +  {\\rm pres} + {\\rm propel} +  c_u + c_\\rho )(u^n,\\rho^n) $$\n",
    "\n",
    "The differential form is used by the ngsolve IMEX example for solving the Navier-Stokes equation which is why \n",
    "I am showing it here. "
   ]
  },
  {
   "cell_type": "code",
   "execution_count": null,
   "id": "577122c2-8d7b-4ad2-a75d-d36ef55660c0",
   "metadata": {},
   "outputs": [],
   "source": []
  },
  {
   "cell_type": "code",
   "execution_count": 2,
   "id": "7752a270-df8b-40f9-81b2-390ae663519b",
   "metadata": {},
   "outputs": [
    {
     "data": {
      "application/vnd.jupyter.widget-view+json": {
       "model_id": "f35fd99f2687402787b4692b4dd0af3e",
       "version_major": 2,
       "version_minor": 0
      },
      "text/plain": [
       "WebGuiWidget(layout=Layout(height='50vh', width='100%'), value={'gui_settings': {}, 'ngsolve_version': '6.2.25…"
      ]
     },
     "metadata": {},
     "output_type": "display_data"
    },
    {
     "data": {
      "text/plain": [
       "('wall', 'outlet', 'wall', 'inlet')"
      ]
     },
     "execution_count": 2,
     "metadata": {},
     "output_type": "execute_result"
    }
   ],
   "source": [
    "geo = netgen.geom2d.SplineGeometry()\n",
    "geo.AddRectangle( (0, 0), (2, 0.5), bcs = (\"wall\", \"outlet\", \"wall\", \"inlet\"))\n",
    "#geo.AddCircle ( (0.2, 0.2), r=0.05, leftdomain=0, rightdomain=1, bc=\"cyl\")\n",
    "maxh_mesh=0.02\n",
    "mesh = ngsolve.Mesh( geo.GenerateMesh(maxh=maxh_mesh))\n",
    "Draw(mesh)\n",
    "mesh.GetBoundaries()\n",
    "#V = ngsolve.VectorH1(mesh, order=2, dirichlet=\"wall|inlet|outlet\")"
   ]
  },
  {
   "cell_type": "code",
   "execution_count": 3,
   "id": "8a5f4c2e-48d3-4d29-a1ed-31edf25dbd03",
   "metadata": {},
   "outputs": [
    {
     "name": "stdout",
     "output_type": "stream",
     "text": [
      "U0 = 0.4472135954999579\n",
      "Peclet=0.223606797749979\n",
      "CFL_nu_dt = 0.02, CFL_ad_dt = 0.044721359549995794\n",
      "dt=0.01\n"
     ]
    }
   ],
   "source": [
    "# similar to the Taylor Hood discretization \n",
    "\n",
    "# make the finite element space from 3 H1 fields \n",
    "Vx = ngsolve.H1(mesh, order=2, dirichlet=\"inlet|wall|outlet\")   # x velocity component \n",
    "Vy = ngsolve.H1(mesh, order=2, dirichlet=\"inlet|wall|outlet\")   # y velocity component \n",
    "Q = ngsolve.H1(mesh, order=1)           # for the density field \n",
    "X = ngsolve.FESpace([Vx,Vy,Q])  # the finite element space \n",
    "\n",
    "# required parameters of the model\n",
    "nu = 0.02    # viscosity \n",
    "cs2 = 1.0    # sound speed squared  \n",
    "rho_0 = 1.0  # initial mean density\n",
    "llambda = 1  # for scaling convection \n",
    "alpha = 0.2  # for propel force\n",
    "beta = 1.0   # for propel force \n",
    "\n",
    "# check the Peclet number \n",
    "U0 = ngsolve.sqrt(alpha/beta)  # this is driving or advective velocity \n",
    "print(f'U0 = {U0}')\n",
    "Peclet = U0*maxh_mesh/(2*nu)\n",
    "print(f'Peclet={Peclet}')  # if this is bigger than 1 then we will have numerical instability (apparently) \n",
    "# see  https://www.comsol.com/blogs/understanding-stabilization-methods\n",
    "\n",
    "CFL_nu_dt = maxh_mesh**2/nu   # CFL condition on dt for difussion (make dt less than this)\n",
    "CFL_ad_dt = maxh_mesh/U0      # CFL condition on dt for advection (aka convection)\n",
    "print(f'CFL_nu_dt = {CFL_nu_dt}, CFL_ad_dt = {CFL_ad_dt}')\n",
    "\n",
    "dt = min(CFL_nu_dt, CFL_ad_dt)/2  # dividing by 2 for good luck\n",
    "print(f'dt={dt}')"
   ]
  },
  {
   "cell_type": "code",
   "execution_count": 4,
   "id": "b03016d8-236e-4a45-b47d-dda25b49424d",
   "metadata": {},
   "outputs": [],
   "source": [
    "\n",
    "# construct test and trial functions   X is finite element space \n",
    "ux,uy,rho = X.TrialFunction()\n",
    "vx,vy,q = X.TestFunction()\n",
    "\n",
    "# set up solution fields which will be updated as we evolve the PDE system\n",
    "gfu = ngsolve.GridFunction(X)\n",
    "velx, vely, rho_gfu = gfu.components\n",
    "\n",
    "# compute divergences of velocities for trial and test velocities \n",
    "div_u = ngsolve.grad(ux)[0]+ngsolve.grad(uy)[1]\n",
    "div_v = ngsolve.grad(vx)[0]+ngsolve.grad(vy)[1]\n",
    "\n",
    "# viscous (laplacian) term, depends on nu (viscosity)\n",
    "a = ngsolve.BilinearForm(X) \n",
    "mlap = nu*(ngsolve.grad(ux)*ngsolve.grad(vx)+ngsolve.grad(uy)*ngsolve.grad(vy) )*ngsolve.dx   #LHS, minus laplacian\n",
    "a += mlap   # LHS = left hand side so I can check signs\n",
    "a.Assemble()  # create the matrix operator on the finite element space \n",
    "\n",
    "# mstar matrix for the implicit part of the IMEX scheme: depends on dt (timestep)\n",
    "mstar = ngsolve.BilinearForm(X)\n",
    "mstar += (ux*vx + uy*vy + rho*q)*ngsolve.dx + dt*mlap  # notice rho q term!  laplacian consistent with LHS\n",
    "mstar.Assemble()\n",
    "inv = mstar.mat.Inverse(X.FreeDofs())  # construct inverse of mstar \n",
    "\n",
    "# set up pressure term, depends on cs2  (which is like the sound speed squared)\n",
    "pterm = ngsolve.BilinearForm(X, nonassemble = True) # don't assemble because nonlinear , LHS consistent \n",
    "#RHS:-nabla Pv to P nabla v then move to LHS giving -\n",
    "pterm += -cs2*div_v*rho*ngsolve.dx   \n",
    "\n",
    "# set up convection terms, depends on llambda  \n",
    "conv = ngsolve.BilinearForm(X, nonassemble = True)   # don't assemble because nonlinear\n",
    "#conv += llambda*(ngsolve.Grad(u) * u) * v * ngsolve.dx LHS\n",
    "conv += llambda * (ux*ngsolve.grad(ux)[0] + uy*ngsolve.grad(ux)[1]) * vx * ngsolve.dx  # for u\n",
    "conv += llambda * (ux*ngsolve.grad(uy)[0] + uy*ngsolve.grad(uy)[1]) * vy * ngsolve.dx\n",
    "conv += -(ux*ngsolve.grad(q)[0] + uy*ngsolve.grad(q)[1])*rho * ngsolve.dx  # for rho, because using grad rho, LHS consistent\n",
    "\n",
    "# set up propel force term, depends on alpha,beta\n",
    "propel = ngsolve.BilinearForm(X, nonassemble = True)  # don't assemble because nonlinear\n",
    "#propel += (alpha - beta*ngsolve.InnerProduct(u,u)) *ngsolve.InnerProduct(u,v)*ngsolve.dx\n",
    "propel += -(alpha - beta*(ux*ux + uy*uy)) * (ux*vx + uy*vy) * ngsolve.dx # LHS needs a minus sign!\n"
   ]
  },
  {
   "cell_type": "code",
   "execution_count": 5,
   "id": "cb2a79be-ce9a-4325-a0ab-de5af7eece15",
   "metadata": {},
   "outputs": [
    {
     "data": {
      "application/vnd.jupyter.widget-view+json": {
       "model_id": "a62785dba1664b36b76858dd9580c9df",
       "version_major": 2,
       "version_minor": 0
      },
      "text/plain": [
       "WebGuiWidget(layout=Layout(height='50vh', width='100%'), value={'gui_settings': {}, 'ngsolve_version': '6.2.25…"
      ]
     },
     "metadata": {},
     "output_type": "display_data"
    },
    {
     "data": {
      "application/vnd.jupyter.widget-view+json": {
       "model_id": "e1c396ff0e1d456ead47df350cbabe31",
       "version_major": 2,
       "version_minor": 0
      },
      "text/plain": [
       "WebGuiWidget(layout=Layout(height='50vh', width='100%'), value={'gui_settings': {}, 'ngsolve_version': '6.2.25…"
      ]
     },
     "metadata": {},
     "output_type": "display_data"
    },
    {
     "data": {
      "application/vnd.jupyter.widget-view+json": {
       "model_id": "490858e4009549dc89c5c3cca0e07cd7",
       "version_major": 2,
       "version_minor": 0
      },
      "text/plain": [
       "WebGuiWidget(layout=Layout(height='50vh', width='100%'), value={'gui_settings': {}, 'ngsolve_version': '6.2.25…"
      ]
     },
     "metadata": {},
     "output_type": "display_data"
    }
   ],
   "source": [
    "# initial conditions, make a little vortex with a stream function  \n",
    "# using a stream function so that initial condition is divergence free\n",
    "x0=0.5; y0=0.25; sig0=0.07; sig2= sig0*sig0\n",
    "r2 = (ngsolve.x -x0) * (ngsolve.x  - x0) + (ngsolve.y-y0) * (ngsolve.y -y0)  # is an ngsolve Coefficient function\n",
    "psi_max = 0.1  # a maximum stream function value \n",
    "psi_stream = psi_max*ngsolve.exp(-0.5*r2/sig2)  # stream function  (is an ngsolve Coefficient function)\n",
    "\n",
    "# add another little vortex \n",
    "x0=1.5; y0=0.22; sig0=0.07; sig2= sig0*sig0\n",
    "r2 = (ngsolve.x -x0) * (ngsolve.x  - x0) + (ngsolve.y-y0) * (ngsolve.y -y0)\n",
    "psi_max = -0.05  # a maximum stream function value \n",
    "psi_stream += psi_max*ngsolve.exp(-0.5*r2/sig2)  # add to the stream function \n",
    "# construct the velocity field from the derivatives of the stream function \n",
    "psi_x = psi_stream.Diff(ngsolve.x)  # derivative w.r.t x \n",
    "psi_y = psi_stream.Diff(ngsolve.y)\n",
    "\n",
    "# set the initial velocity components (velx, vely are in gfu solution fields)\n",
    "# I am assuming that Dirichlet boundary is not touched with this?  true!\n",
    "#see https://forum.ngsolve.org/t/specifying-inconsisten-initial-and-boundary-conditions/1727\n",
    "velx.Set(psi_y)\n",
    "vely.Set(-1*psi_x)\n",
    "\n",
    "# make a small density bump in the initial conditions too!\n",
    "x0=0.8; y0=0.3; sig0=0.07; sig2= sig0*sig0\n",
    "r2 = (ngsolve.x -x0) * (ngsolve.x  - x0) + (ngsolve.y-y0) * (ngsolve.y -y0)\n",
    "rho_bump = 0.1*ngsolve.exp(-0.5*r2/sig2) + rho_0 # is a coefficient function \n",
    "\n",
    "# set the initial density field in the gfu solution field \n",
    "rho_gfu.Set(rho_bump)\n",
    "\n",
    "# draw!\n",
    "sceneux = Draw(velx,mesh,\"u\")  # these will be updated as the simulation runs \n",
    "sceneuy = Draw(vely,mesh,\"u\")  # these will be updated as the simulation runs \n",
    "scenep = Draw(rho_gfu,mesh,\"p\")"
   ]
  },
  {
   "cell_type": "code",
   "execution_count": 6,
   "id": "48dde1d5-413d-4ece-a61c-6c045b827b00",
   "metadata": {},
   "outputs": [
    {
     "name": "stdout",
     "output_type": "stream",
     "text": [
      "t= 0craete bilinearformapplication\n",
      "craete bilinearformapplication\n",
      "craete bilinearformapplication\n",
      "t= 4.989999999999938575"
     ]
    }
   ],
   "source": [
    "tend = 0  # end time of simulation \n",
    "\n",
    "# implicit Euler/explicit Euler splitting method:IMEX\n",
    "tend += 5.0   # the end time of the integration \n",
    "gfut = ngsolve.GridFunction(gfu.space,multidim=0)  # place to store outputs \n",
    "gfut.AddMultiDimComponent(gfu.vec)\n",
    "t = 0; cnt = 0   # initial output and counts of number of timesteps\n",
    "nn = len(velx.vec.FV().NumPy()[:])  # if you use noise you need to define a length of a vector \n",
    "wnoise = 1e-4  # noise level \n",
    "adnoise=0  # set to 1 if you want some noise \n",
    "propel_by_hand = 0  # set to 1 if you propel by hand with operator split instead of IMEX\n",
    "while (t < tend-0.5*dt):\n",
    "    print (\"\\rt=\", t, end=\"\")\n",
    "\n",
    "    conv.Assemble()   # updates form to take into account nonlinearity of convective terms \n",
    "    propel.Assemble() # ditto for propel force \n",
    "    pterm.Assemble()  # ditto for pressure term \n",
    " \n",
    "    if (propel_by_hand ==0):\n",
    "        res = (a.mat + conv.mat + pterm.mat + propel.mat)* gfu.vec\n",
    "    else:\n",
    "        res = (a.mat + conv.mat + pterm.mat )* gfu.vec\n",
    "    gfu.vec.data -= dt * inv * res    # inverse of mstar is inv\n",
    "\n",
    "    # propel by hand with an operator split \n",
    "    if (propel_by_hand ==1):\n",
    "        upassx = velx.vec.FV().NumPy()[:] \n",
    "        upassy = vely.vec.FV().NumPy()[:] \n",
    "        fac = (alpha - beta * (upassx*upassx + upassy*upassy))\n",
    "        dux = dt*fac*upassx;  duy = dt*fac*upassy\n",
    "        velx.vec.FV().NumPy()[:] += dux;    vely.vec.FV().NumPy()[:] += duy\n",
    "\n",
    "    if (adnoise==1):\n",
    "        velx.vec.FV().NumPy()[:] += np.random.normal(size=nn)*wnoise \n",
    "        vely.vec.FV().NumPy()[:] += np.random.normal(size=nn)*wnoise\n",
    "    \n",
    "    t = t + dt; cnt += 1  # update time and counts \n",
    "    # update scenes in the webgui (look above!)\n",
    "    sceneux.Redraw()\n",
    "    sceneuy.Redraw()\n",
    "    scenep.Redraw()\n",
    "    if cnt % 5 == 0:  # how often to store outputs in the big data structure \n",
    "        gfut.AddMultiDimComponent(gfu.vec)\n"
   ]
  },
  {
   "cell_type": "code",
   "execution_count": 13,
   "id": "c47e320a-58bf-4cdf-8605-56d40a208684",
   "metadata": {},
   "outputs": [
    {
     "data": {
      "application/vnd.jupyter.widget-view+json": {
       "model_id": "34c12bcf0eed4858b7ffd089b807d2fb",
       "version_major": 2,
       "version_minor": 0
      },
      "text/plain": [
       "WebGuiWidget(layout=Layout(height='50vh', width='100%'), value={'gui_settings': {}, 'ngsolve_version': '6.2.25…"
      ]
     },
     "metadata": {},
     "output_type": "display_data"
    },
    {
     "data": {
      "text/plain": [
       "BaseWebGuiScene"
      ]
     },
     "execution_count": 13,
     "metadata": {},
     "output_type": "execute_result"
    }
   ],
   "source": [
    "\n",
    "Draw (gfut.components[0], mesh, interpolate_multidim=True, animate=True,\n",
    "      min=-0.2, max=0.2, autoscale=False)"
   ]
  },
  {
   "cell_type": "code",
   "execution_count": null,
   "id": "d29e3374-5458-4791-8f37-bead561af00c",
   "metadata": {},
   "outputs": [],
   "source": []
  }
 ],
 "metadata": {
  "kernelspec": {
   "display_name": "Python 3 (ipykernel)",
   "language": "python",
   "name": "python3"
  },
  "language_info": {
   "codemirror_mode": {
    "name": "ipython",
    "version": 3
   },
   "file_extension": ".py",
   "mimetype": "text/x-python",
   "name": "python",
   "nbconvert_exporter": "python",
   "pygments_lexer": "ipython3",
   "version": "3.13.5"
  }
 },
 "nbformat": 4,
 "nbformat_minor": 5
}
